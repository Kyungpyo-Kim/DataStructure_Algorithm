{
 "metadata": {
  "language_info": {
   "codemirror_mode": {
    "name": "ipython",
    "version": 3
   },
   "file_extension": ".py",
   "mimetype": "text/x-python",
   "name": "python",
   "nbconvert_exporter": "python",
   "pygments_lexer": "ipython3",
   "version": "3.8.5-final"
  },
  "orig_nbformat": 2,
  "kernelspec": {
   "name": "python3",
   "display_name": "Python 3.8.5 64-bit",
   "metadata": {
    "interpreter": {
     "hash": "31f2aee4e71d21fbe5cf8b01ff0e069b9275f58929596ceb00d14d90e3e16cd6"
    }
   }
  }
 },
 "nbformat": 4,
 "nbformat_minor": 2,
 "cells": [
  {
   "cell_type": "code",
   "execution_count": 1,
   "metadata": {},
   "outputs": [],
   "source": [
    "# Make input file\n",
    "f = open(\"input.txt\", \"w\")\n",
    "f.write(\"3\\n\")\n",
    "f.write(\"6 5\\n\")\n",
    "f.write(\"1 4\\n\")\n",
    "f.write(\"1 3\\n\")\n",
    "f.write(\"2 3\\n\")\n",
    "f.write(\"2 5\\n\")\n",
    "f.write(\"4 6\\n\")\n",
    "f.write(\"1 6\\n\")\n",
    "f.write(\"7 4\\n\")\n",
    "f.write(\"1 6\\n\")\n",
    "f.write(\"2 3\\n\")\n",
    "f.write(\"2 6\\n\")\n",
    "f.write(\"3 5\\n\")\n",
    "f.write(\"1 5\\n\")\n",
    "f.write(\"9 9\\n\")\n",
    "f.write(\"2 6\\n\")\n",
    "f.write(\"4 7\\n\")\n",
    "f.write(\"5 7\\n\")\n",
    "f.write(\"1 5\\n\")\n",
    "f.write(\"2 9\\n\")\n",
    "f.write(\"3 9\\n\")\n",
    "f.write(\"4 8\\n\")\n",
    "f.write(\"5 3\\n\")\n",
    "f.write(\"7 8\\n\")\n",
    "f.write(\"1 9\\n\")\n",
    "f.close()"
   ]
  },
  {
   "cell_type": "code",
   "execution_count": 9,
   "metadata": {},
   "outputs": [
    {
     "output_type": "stream",
     "name": "stdout",
     "text": [
      "[[1, 4], [1, 3], [2, 3], [2, 5], [4, 6]]\n[[1, 6], [2, 3], [2, 6], [3, 5]]\n[[2, 6], [4, 7], [5, 7], [1, 5], [2, 9], [3, 9], [4, 8], [5, 3], [7, 8]]\n"
     ]
    }
   ],
   "source": [
    "# for Jupyter Notebook\n",
    "###\n",
    "f = open(\"input.txt\", \"r\")\n",
    "input = f.readline\n",
    "###\n",
    "\n",
    "T = int(input())\n",
    "for test_case in range(1, T+1):\n",
    "    # * inputs\n",
    "    ve = list(map(int, input().split()))\n",
    "    v, e = [ve[i] for i in range(2)] \n",
    "    edges = [list(map(int, input().split())) for _ in range(e)]\n",
    "    sg = list(map(int, input().split()))\n",
    "    s, g = [sg[i] for i in range(2)]  \n"
   ]
  },
  {
   "cell_type": "code",
   "execution_count": null,
   "metadata": {},
   "outputs": [],
   "source": []
  }
 ]
}