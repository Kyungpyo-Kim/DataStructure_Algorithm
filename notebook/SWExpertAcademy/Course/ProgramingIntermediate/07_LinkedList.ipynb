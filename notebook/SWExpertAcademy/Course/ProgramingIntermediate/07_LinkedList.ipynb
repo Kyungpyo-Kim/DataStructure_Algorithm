{
 "cells": [
  {
   "source": [
    "출처: https://swexpertacademy.com/\n",
    "        \n",
    "7일차 - 숫자 추가"
   ],
   "cell_type": "markdown",
   "metadata": {}
  },
  {
   "cell_type": "code",
   "execution_count": 2,
   "metadata": {},
   "outputs": [],
   "source": [
    "# Make input file\n",
    "f = open(\"input.txt\", \"w\")\n",
    "f.write(\"3\\n\")\n",
    "f.write(\"5 2 5\\n\")\n",
    "f.write(\"1 2 3 4 5\\n\")\n",
    "f.write(\"2 7\\n\")\n",
    "f.write(\"4 8\\n\")\n",
    "f.write(\"5 5 4\\n\")\n",
    "f.write(\"13787 32221 32402 32498 4169\\n\")\n",
    "f.write(\"3 5902\\n\")\n",
    "f.write(\"3 9752\\n\")\n",
    "f.write(\"3 27737\\n\")\n",
    "f.write(\"1 14133\\n\")\n",
    "f.write(\"0 16547\\n\")\n",
    "f.write(\"10 10 8\\n\")\n",
    "f.write(\"16243 26767 22174 25277 17456 13398 29850 22297 1382 31246\\n\")\n",
    "f.write(\"9 23198\\n\")\n",
    "f.write(\"7 17514\\n\")\n",
    "f.write(\"11 24247\\n\")\n",
    "f.write(\"0 25306\\n\")\n",
    "f.write(\"2 9104\\n\")\n",
    "f.write(\"6 28112\\n\")\n",
    "f.write(\"12 7491\\n\")\n",
    "f.write(\"10 26972\\n\")\n",
    "f.write(\"17 22639\\n\")\n",
    "f.write(\"12 28722\\n\")\n",
    "f.close()"
   ]
  },
  {
   "cell_type": "code",
   "execution_count": 2,
   "metadata": {},
   "outputs": [
    {
     "output_type": "stream",
     "name": "stdout",
     "text": [
      "#1 4\n#2 32402\n#3 13398\n"
     ]
    }
   ],
   "source": [
    "# for Jupyter Notebook\n",
    "###\n",
    "f = open(\"input.txt\", \"r\")\n",
    "input = f.readline\n",
    "###\n",
    "\n",
    "T = int(input())                \n",
    "\n",
    "for test_case in range(1, T+1):\n",
    "    \n",
    "    # inputs\n",
    "    nml = list(map(int, input().split()))\n",
    "    n, m, l = [nml[i] for i in range(3)] \n",
    "    seq = list(map(int, input().split()))\n",
    "\n",
    "    # insert\n",
    "    for _ in range(m):\n",
    "        seq.insert(*list(map(int, input().split())))\n",
    "    \n",
    "    print(\"#{} {}\".format(test_case, seq[l] ))"
   ]
  },
  {
   "cell_type": "code",
   "execution_count": null,
   "metadata": {},
   "outputs": [],
   "source": []
  }
 ],
 "metadata": {
  "kernelspec": {
   "display_name": "Python 3",
   "language": "python",
   "name": "python3"
  },
  "language_info": {
   "codemirror_mode": {
    "name": "ipython",
    "version": 3
   },
   "file_extension": ".py",
   "mimetype": "text/x-python",
   "name": "python",
   "nbconvert_exporter": "python",
   "pygments_lexer": "ipython3",
   "version": "3.8.5-final"
  }
 },
 "nbformat": 4,
 "nbformat_minor": 4
}