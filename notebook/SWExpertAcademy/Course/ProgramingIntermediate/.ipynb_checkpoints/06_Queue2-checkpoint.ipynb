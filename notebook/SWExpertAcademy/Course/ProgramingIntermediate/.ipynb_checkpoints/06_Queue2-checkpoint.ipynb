{
 "cells": [
  {
   "cell_type": "markdown",
   "metadata": {},
   "source": [
    "출처: https://swexpertacademy.com/\n",
    "8차시 6일차 - 노드의 거리"
   ]
  },
  {
   "cell_type": "markdown",
   "metadata": {},
   "source": [
    "## Breadth-First Search (너비 우선 탐색)\n",
    "* 루트 노드(혹은 다른 임의의 노드)에서 시작해서 인접한 노드를 먼저 탐색하는 방법\n",
    "* 인접 리스트로 표현된 그래프: O(N+E)\n",
    "* 인접 행렬로 표현된 그래프: O(N^2)\n",
    "* 깊이 우선 탐색(DFS)과 마찬가지로 그래프 내에 적은 숫자의 간선만을 가지는 희소 그래프(Sparse Graph) 의 경우 인접 행렬보다 인접 리스트를 사용하는 것이 유리하다.\n",
    "* BFS는 두개의 큐를 이용하여 원하는 목적지까지 최단거리를 탐색할때 사용하면 좋다.\n",
    "* 모든 경우의 수를 탐색할때는 DFS를 사용하지만 최단거리는 BFS가 빠르다."
   ]
  },
  {
   "cell_type": "code",
   "execution_count": 1,
   "metadata": {},
   "outputs": [],
   "source": [
    "# Make input file\n",
    "f = open(\"input.txt\", \"w\")\n",
    "f.write(\"3\\n\")\n",
    "f.write(\"6 5\\n\")\n",
    "f.write(\"1 4\\n\")\n",
    "f.write(\"1 3\\n\")\n",
    "f.write(\"2 3\\n\")\n",
    "f.write(\"2 5\\n\")\n",
    "f.write(\"4 6\\n\")\n",
    "f.write(\"1 6\\n\")\n",
    "f.write(\"7 4\\n\")\n",
    "f.write(\"1 6\\n\")\n",
    "f.write(\"2 3\\n\")\n",
    "f.write(\"2 6\\n\")\n",
    "f.write(\"3 5\\n\")\n",
    "f.write(\"1 5\\n\")\n",
    "f.write(\"9 9\\n\")\n",
    "f.write(\"2 6\\n\")\n",
    "f.write(\"4 7\\n\")\n",
    "f.write(\"5 7\\n\")\n",
    "f.write(\"1 5\\n\")\n",
    "f.write(\"2 9\\n\")\n",
    "f.write(\"3 9\\n\")\n",
    "f.write(\"4 8\\n\")\n",
    "f.write(\"5 3\\n\")\n",
    "f.write(\"7 8\\n\")\n",
    "f.write(\"1 9\\n\")\n",
    "f.close()"
   ]
  },
  {
   "cell_type": "code",
   "execution_count": 20,
   "metadata": {
    "tags": [
     "outputPrepend"
    ]
   },
   "outputs": [
    {
     "name": "stdout",
     "output_type": "stream",
     "text": [
      "#1 2\n",
      "#2 4\n",
      "#3 3\n"
     ]
    }
   ],
   "source": [
    "# for Jupyter Notebook\n",
    "###\n",
    "f = open(\"input.txt\", \"r\")\n",
    "input = f.readline\n",
    "###\n",
    "\n",
    "def BreadthFirstSearch(start_node, nodes_num, edges):\n",
    "    \n",
    "    # initialize\n",
    "    node_queue = [start_node]\n",
    "    visited = [False for _ in range(nodes_num+1)]\n",
    "    visited[start_node] = True\n",
    "    distance = [0 for _ in range(nodes_num+1)]\n",
    "    \n",
    "    while node_queue:\n",
    "        current_node = node_queue.pop(0)\n",
    "        for edge in edges:\n",
    "            if current_node in edge:\n",
    "                new_node = edge[0] if edge[0] != current_node else edge[1]\n",
    "                if visited[new_node] == False:\n",
    "                    node_queue.append(new_node)\n",
    "                    distance[new_node] = distance[current_node]+1\n",
    "                    visited[new_node] = True\n",
    "                \n",
    "    return distance\n",
    "        \n",
    "\n",
    "T = int(input())\n",
    "for test_case in range(1, T+1):\n",
    "    \n",
    "    # inputs\n",
    "    ve = list(map(int, input().split()))\n",
    "    v, e = [ve[i] for i in range(2)] \n",
    "    edges = [list(map(int, input().split())) for _ in range(e)]\n",
    "    sg = list(map(int, input().split()))\n",
    "    s, g = [sg[i] for i in range(2)]\n",
    "    print(\"#{} {}\".format(test_case, BreadthFirstSearch(s, v, edges)[g] ))\n",
    "    \n"
   ]
  },
  {
   "cell_type": "code",
   "execution_count": null,
   "metadata": {},
   "outputs": [],
   "source": []
  }
 ],
 "metadata": {
  "kernelspec": {
   "display_name": "Python 3",
   "language": "python",
   "name": "python3"
  },
  "language_info": {
   "codemirror_mode": {
    "name": "ipython",
    "version": 3
   },
   "file_extension": ".py",
   "mimetype": "text/x-python",
   "name": "python",
   "nbconvert_exporter": "python",
   "pygments_lexer": "ipython3",
   "version": "3.8.5"
  }
 },
 "nbformat": 4,
 "nbformat_minor": 4
}
