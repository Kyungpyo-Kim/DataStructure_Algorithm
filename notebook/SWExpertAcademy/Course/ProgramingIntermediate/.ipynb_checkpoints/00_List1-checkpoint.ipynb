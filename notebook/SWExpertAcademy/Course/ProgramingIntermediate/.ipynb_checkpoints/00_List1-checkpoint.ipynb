{
 "cells": [
  {
   "cell_type": "markdown",
   "metadata": {},
   "source": [
    "출처\n",
    "https://swexpertacademy.com/main/learn/course/subjectDetail.do?courseId=AVuPDN86AAXw5UW6&subjectId=AWOVFCzaqeUDFAWg"
   ]
  },
  {
   "cell_type": "markdown",
   "metadata": {},
   "source": [
    "## 4828. [파이썬 S/W 문제해결 기본] 1일차 - min max\n",
    "\n",
    "※ SW Expert 아카데미의 문제를 무단 복제하는 것을 금지합니다.\n",
    "\n",
    "\n",
    "N개의 양의 정수에서 가장 큰 수와 가장 작은 수의 차이를 출력하시오.\n",
    "\n",
    "\n",
    "[입력]\n",
    "\n",
    "첫 줄에 테스트 케이스의 수 T가 주어진다. ( 1 ≤ T ≤ 50 )\n",
    "\n",
    "각 케이스의 첫 줄에 양수의 개수 N이 주어진다. ( 5 ≤ N ≤ 1000 )\n",
    "\n",
    "다음 줄에 N개의 양수 ai가 주어진다. ( 1 ≤ ai≤ 1000000 )\n",
    "\n",
    "[출력]\n",
    "\n",
    "각 줄마다 \"#T\" (T는 테스트 케이스 번호)를 출력한 뒤, 답을 출력한다.\n",
    "\n",
    "```\n",
    "input:\n",
    "3\n",
    "5\n",
    "477162 658880 751280 927930 297191\n",
    "5\n",
    "565469 851600 460874 148692 111090\n",
    "10\n",
    "784386 279993 982220 996285 614710 992232 195265 359810 919192 158175\n",
    "\n",
    "output:\n",
    "#1 630739\n",
    "#2 740510\n",
    "#3 838110\n",
    "```\n"
   ]
  },
  {
   "cell_type": "code",
   "execution_count": 8,
   "metadata": {},
   "outputs": [],
   "source": [
    "# Make input file\n",
    "f = open(\"input.txt\", \"w\")\n",
    "f.write(\"3\\n\")\n",
    "f.write(\"5\\n\")\n",
    "f.write(\"477162 658880 751280 927930 297191\\n\")\n",
    "f.write(\"5\\n\")\n",
    "f.write(\"565469 851600 460874 148692 111090\\n\")\n",
    "f.write(\"10\\n\")\n",
    "f.write(\"784386 279993 982220 996285 614710 992232 195265 359810 919192 158175\\n\")\n",
    "f.close()"
   ]
  },
  {
   "cell_type": "code",
   "execution_count": 9,
   "metadata": {},
   "outputs": [
    {
     "name": "stdout",
     "output_type": "stream",
     "text": [
      "#1 630739\n",
      "#2 740510\n",
      "#3 838110\n"
     ]
    }
   ],
   "source": [
    "# for Jupyter Notebook\n",
    "###\n",
    "f = open(\"input.txt\", \"r\")\n",
    "input = f.readline\n",
    "###\n",
    "\n",
    "T = int(input())\n",
    "for test_case in range(1, T + 1):\n",
    "    \n",
    "    N = int(input())\n",
    "    d = [ int(i) for i in input().split(' ')  ]\n",
    "    answer = max(d) - min(d)\n",
    "    \n",
    "    print( \"#\" + str(test_case), answer)"
   ]
  },
  {
   "cell_type": "markdown",
   "metadata": {},
   "source": [
    "## 4831. [파이썬 S/W 문제해결 기본] 1일차 - 전기버스\n",
    "\n",
    "\n",
    "※ SW Expert 아카데미의 문제를 무단 복제하는 것을 금지합니다.\n",
    "\n",
    "\n",
    "A도시는 전기버스를 운행하려고 한다. 전기버스는 한번 충전으로 이동할 수 있는 정류장 수가 정해져 있어서, 중간에 충전기가 설치된 정류장을 만들기로 했다.\n",
    "\n",
    "버스는 0번에서 출발해 종점인 N번 정류장까지 이동하고, 한번 충전으로 최대한 이동할 수 있는 정류장 수 K가 정해져 있다.\n",
    "\n",
    "충전기가 설치된 M개의 정류장 번호가 주어질 때, 최소한 몇 번의 충전을 해야 종점에 도착할 수 있는지 출력하는 프로그램을 만드시오.\n",
    "\n",
    "만약 충전기 설치가 잘못되어 종점에 도착할 수 없는 경우는 0을 출력한다. 출발지에는 항상 충전기가 설치되어 있지만 충전횟수에는 포함하지 않는다.\n",
    " \n",
    "\n",
    "\n",
    "[예시]\n",
    "\n",
    "\n",
    "\n",
    "다음은 K = 3, N = 10, M = 5, 충전기가 설치된 정류장이 1, 3, 5, 7, 9인 경우의 예이다.\n",
    "\n",
    " \n",
    "\n",
    "[입력]\n",
    " \n",
    "\n",
    "첫 줄에 노선 수 T가 주어진다.  ( 1 ≤ T ≤ 50 )\n",
    "\n",
    "\n",
    "각 노선별로 K, N, M이 주어지고, 다음줄에 M개의 정류장 번호가 주어진다. ( 1 ≤ K, N, M ≤ 100 )\n",
    " \n",
    "\n",
    "[출력]\n",
    "\n",
    "\n",
    "#과 노선번호, 빈칸에 이어 최소 충전횟수 또는 0을 출력한다.\n",
    "\n",
    "```\n",
    "input:\n",
    "3\n",
    "3 10 5\n",
    "1 3 5 7 9\n",
    "3 10 5\n",
    "1 3 7 8 9\n",
    "5 20 5\n",
    "4 7 9 14 17\n",
    "\n",
    "output:\n",
    "#1 3\n",
    "#2 0\n",
    "#3 4\n",
    "```\n"
   ]
  },
  {
   "cell_type": "code",
   "execution_count": 10,
   "metadata": {},
   "outputs": [],
   "source": [
    "# Make input file\n",
    "f = open(\"input.txt\", \"w\")\n",
    "f.write(\"3\\n\")\n",
    "f.write(\"3 10 5\\n\")\n",
    "f.write(\"1 3 5 7 9\\n\")\n",
    "f.write(\"3 10 5\\n\")\n",
    "f.write(\"1 3 7 8 9\\n\")\n",
    "f.write(\"5 20 5\\n\")\n",
    "f.write(\"4 7 9 14 17\\n\")\n",
    "f.close()"
   ]
  },
  {
   "cell_type": "code",
   "execution_count": 11,
   "metadata": {},
   "outputs": [
    {
     "name": "stdout",
     "output_type": "stream",
     "text": [
      "#1 3\n",
      "#2 0\n",
      "#3 4\n"
     ]
    }
   ],
   "source": [
    "# for Jupyter Notebook\n",
    "###\n",
    "f = open(\"input.txt\", \"r\")\n",
    "input = f.readline\n",
    "###\n",
    "\n",
    "T = int(input())\n",
    "for test_case in range(1, T + 1):\n",
    "\n",
    "    [k, n, m] = [int(i) for i in input().split(' ')]\n",
    "    mm = [int(i) for i in input().split(' ')]\n",
    "    nm = [0 for _ in range(n+1)]\n",
    "    for i in mm:\n",
    "        nm[i] += 1\n",
    "    \n",
    "    cnt = 0\n",
    "    curpos = 0\n",
    "    endpos = k\n",
    "    while True:\n",
    "        kk = 0\n",
    "        for i in range(curpos+1, endpos+1):\n",
    "            if nm[i] == 1:\n",
    "                curpos = i\n",
    "            else:\n",
    "                kk+=1\n",
    "        \n",
    "        if kk >= k:\n",
    "            cnt = 0\n",
    "            break\n",
    "        \n",
    "        cnt += 1\n",
    "        \n",
    "        endpos = curpos + k\n",
    "        \n",
    "        if endpos >= n:\n",
    "            break\n",
    "            \n",
    "    print(\"#\"+str(test_case), cnt)"
   ]
  }
 ],
 "metadata": {
  "kernelspec": {
   "display_name": "Python 3",
   "language": "python",
   "name": "python3"
  },
  "language_info": {
   "codemirror_mode": {
    "name": "ipython",
    "version": 3
   },
   "file_extension": ".py",
   "mimetype": "text/x-python",
   "name": "python",
   "nbconvert_exporter": "python",
   "pygments_lexer": "ipython3",
   "version": "3.7.2"
  }
 },
 "nbformat": 4,
 "nbformat_minor": 2
}
