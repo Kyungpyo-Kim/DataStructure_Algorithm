{
 "metadata": {
  "language_info": {
   "codemirror_mode": {
    "name": "ipython",
    "version": 3
   },
   "file_extension": ".py",
   "mimetype": "text/x-python",
   "name": "python",
   "nbconvert_exporter": "python",
   "pygments_lexer": "ipython3",
   "version": "3.8.5-final"
  },
  "orig_nbformat": 2,
  "kernelspec": {
   "name": "python3",
   "display_name": "Python 3.8.5 64-bit",
   "metadata": {
    "interpreter": {
     "hash": "31f2aee4e71d21fbe5cf8b01ff0e069b9275f58929596ceb00d14d90e3e16cd6"
    }
   }
  }
 },
 "nbformat": 4,
 "nbformat_minor": 2,
 "cells": [
  {
   "source": [
    "출처: https://swexpertacademy.com/\n",
    "\n",
    "7일차 - 암호"
   ],
   "cell_type": "markdown",
   "metadata": {}
  },
  {
   "cell_type": "code",
   "execution_count": 2,
   "metadata": {},
   "outputs": [],
   "source": [
    "f = open(\"input.txt\", \"w\")\n",
    "f.write(\"3\\n\")\n",
    "f.write(\"6 3 3\\n\")\n",
    "f.write(\"6 2 4 9 1 5\\n\")\n",
    "f.write(\"5 3 5\\n\")\n",
    "f.write(\"958 386 329 169 778\\n\")\n",
    "f.write(\"10 4 10\\n\")\n",
    "f.write(\"158 606 636 941 686 774 302 375 954 668\\n\")\n",
    "f.close()"
   ]
  },
  {
   "cell_type": "code",
   "execution_count": 3,
   "metadata": {},
   "outputs": [
    {
     "output_type": "stream",
     "name": "stdout",
     "text": [
      "[6, 2, 4, 9, 1, 5]\n[958, 386, 329, 169, 778]\n[158, 606, 636, 941, 686, 774, 302, 375, 954, 668]\n"
     ]
    }
   ],
   "source": [
    "# for Jupyter Notebook\n",
    "###\n",
    "f = open(\"input.txt\", \"r\")\n",
    "input = f.readline\n",
    "###\n",
    "\n",
    "\n",
    "T = int(input())                \n",
    "\n",
    "for test_case in range(1, T+1):\n",
    "    nmk = list(map(int, input().split()))\n",
    "    n, m, k = [nmk[i] for i in range(3)] \n",
    "    seq = list(map(int, input().split()))\n",
    "    print(seq)\n",
    "\n",
    "    "
   ]
  }
 ]
}