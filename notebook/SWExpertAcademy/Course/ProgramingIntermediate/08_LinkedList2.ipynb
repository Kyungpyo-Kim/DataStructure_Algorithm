{
 "metadata": {
  "language_info": {
   "codemirror_mode": {
    "name": "ipython",
    "version": 3
   },
   "file_extension": ".py",
   "mimetype": "text/x-python",
   "name": "python",
   "nbconvert_exporter": "python",
   "pygments_lexer": "ipython3",
   "version": "3.8.5-final"
  },
  "orig_nbformat": 2,
  "kernelspec": {
   "name": "python3",
   "display_name": "Python 3.8.5 64-bit",
   "metadata": {
    "interpreter": {
     "hash": "31f2aee4e71d21fbe5cf8b01ff0e069b9275f58929596ceb00d14d90e3e16cd6"
    }
   }
  }
 },
 "nbformat": 4,
 "nbformat_minor": 2,
 "cells": [
  {
   "source": [
    "출처: https://swexpertacademy.com/\n",
    "        \n",
    "7일차 - 수열 합치기"
   ],
   "cell_type": "markdown",
   "metadata": {}
  },
  {
   "cell_type": "code",
   "execution_count": 1,
   "metadata": {},
   "outputs": [],
   "source": [
    "f = open(\"input.txt\", \"w\")\n",
    "f.write(\"3\\n\")\n",
    "f.write(\"4 4\\n\")\n",
    "f.write(\"2 3 4 5\\n\")\n",
    "f.write(\"4 8 7 6\\n\")\n",
    "f.write(\"9 10 15 16\\n\")\n",
    "f.write(\"1 2 6 5\\n\")\n",
    "f.write(\"5 5\\n\")\n",
    "f.write(\"273 415 58 798 251\\n\")\n",
    "f.write(\"675 193 494 506 365\\n\")\n",
    "f.write(\"479 390 224 334 387\\n\")\n",
    "f.write(\"107 402 569 422 183\\n\")\n",
    "f.write(\"88 709 994 206 916\\n\")\n",
    "f.write(\"10 10\\n\")\n",
    "f.write(\"178 778 659 231 274 123 788 16 483 404\\n\")\n",
    "f.write(\"36 14 602 74 287 689 730 703 611 339\\n\")\n",
    "f.write(\"445 468 126 821 946 212 218 143 999 923\\n\")\n",
    "f.write(\"288 792 249 142 996 999 570 757 141 921\\n\")\n",
    "f.write(\"98 87 800 892 401 244 661 179 403 985\\n\")\n",
    "f.write(\"474 315 694 816 838 525 288 94 609 6\\n\")\n",
    "f.write(\"789 433 474 883 927 841 242 233 286 749\\n\")\n",
    "f.write(\"7 667 875 986 107 957 887 520 430 649\\n\")\n",
    "f.write(\"721 206 65 776 328 807 845 908 382 836\\n\")\n",
    "f.write(\"707 811 790 652 805 190 407 257 668 307\\n\")\n",
    "f.close()"
   ]
  },
  {
   "cell_type": "code",
   "execution_count": 5,
   "metadata": {},
   "outputs": [
    {
     "output_type": "stream",
     "name": "stdout",
     "text": [
      "#1 16 15 10 9 5 6 7 8 4 4 \n#2 251 798 365 506 494 193 675 387 334 224 \n#3 404 483 16 788 123 274 231 659 778 178 \n"
     ]
    }
   ],
   "source": [
    "# for Jupyter Notebook\n",
    "###\n",
    "f = open(\"input.txt\", \"r\")\n",
    "input = f.readline\n",
    "###\n",
    "\n",
    "\n",
    "T = int(input())                \n",
    "\n",
    "for test_case in range(1, T+1):\n",
    "    # inputs\n",
    "    nm = list(map(int, input().split()))\n",
    "    n, m = [nm[i] for i in range(2)] \n",
    "    seq = [ list(map(int, input().split())) for _ in range(m)]\n",
    "\n",
    "    seq_merged = seq.pop(0)\n",
    "\n",
    "    for s in seq:\n",
    "        merged = False\n",
    "        for i, n in enumerate(seq_merged):\n",
    "            if n > s[0]:\n",
    "                seq_merged[i:i] = s\n",
    "                merged = True\n",
    "                break\n",
    "        if not merged:\n",
    "            seq_merged.extend(s)\n",
    "\n",
    "    print(\"#{} \".format(test_case), end=\"\")\n",
    "    for v in range(len(seq_merged), len(seq_merged)-10, -1):\n",
    "        print(\"{}\".format(seq_merged[v-1]), end=\" \") \n",
    "    print(\"\")"
   ]
  },
  {
   "cell_type": "code",
   "execution_count": null,
   "metadata": {},
   "outputs": [],
   "source": []
  }
 ]
}