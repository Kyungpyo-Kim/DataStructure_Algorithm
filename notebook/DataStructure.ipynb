{
 "cells": [
  {
   "cell_type": "markdown",
   "metadata": {},
   "source": [
    "# Data Structure\n",
    "\n",
    "## 자료구조의 정의 및 종류\n",
    "\n",
    "자료구조를 물리적으로 구현하는 방법\n",
    "* List\n",
    "* Linked list\n",
    "\n",
    "이를 이용하여 구현된 자료구조의 종류\n",
    "\n",
    "* List\n",
    "* Linked list\n",
    "\n",
    "아래는 **List**, **Linked list** 로 구현이 가능하고,\n",
    "* Array\n",
    "* Stack\n",
    "* Queue\n",
    "* Tree\n",
    "* Heap\n",
    "* Graph\n",
    "데크는 **List** 로 구현이 가능하다.\n",
    "* Deque\n",
    "\n",
    "## 자료구조의 분류\n",
    "\n",
    "자료구조\n",
    " * 단순구조\n",
    "  - 2진수, 정수, 실수, 문자, 문자열 --> 배열, 구조체, 클래스 등 사용자 정의 자료형으로 사용\n",
    " * 선형구조\n",
    "  _ 리스트\n",
    "  - 연결 리스트 --> 단순 연결, 이중 연결, 원형 연결 리스트\n",
    "  - 데크\n",
    "  - 스택\n",
    "  - 큐\n",
    " * 비선형구조\n",
    "  - 트리 --> 일반 트리, 이진 트리\n",
    "  - 그래프 --> 방향 그래프, 무방향 그래프\n",
    " * 파일구조\n",
    "  - 순차파일\n",
    "  - 색인파일\n",
    "  - 직접파일"
   ]
  },
  {
   "cell_type": "markdown",
   "metadata": {},
   "source": [
    "## 자료구조의 구현"
   ]
  },
  {
   "cell_type": "markdown",
   "metadata": {},
   "source": [
    "List 형 자료구조\n",
    "* 배열: 크기가 변하지 않음, 중간 값이 지워져도 크기가 일정\n",
    "* 리스트: 크기가 변함, 중간 값이 지워지면 뒤에 값이 앞으로 이동"
   ]
  },
  {
   "cell_type": "code",
   "execution_count": 7,
   "metadata": {},
   "outputs": [
    {
     "name": "stdout",
     "output_type": "stream",
     "text": [
      "The sales result = 12\n",
      "The sales result = 45\n",
      "The sales result = 67\n",
      "The sales result = 43\n",
      "The sales result = 56\n",
      "The sales result = 98\n",
      " delete: 43\n",
      "The sales result = 12\n",
      "The sales result = 45\n",
      "The sales result = 67\n",
      "The sales result = 56\n",
      "The sales result = 98\n"
     ]
    }
   ],
   "source": [
    "# Python List\n",
    "sales_results = [12, 45, 67, 43, 56, 98]\n",
    "\n",
    "for s in sales_results:\n",
    "    print ( \"The sales result = %d\" % ( s ) )\n",
    "    \n",
    "print ( \" delete:\", sales_results[3])\n",
    "del sales_results[3]\n",
    "\n",
    "for s in sales_results:\n",
    "    print ( \"The sales result = %d\" % ( s ) )\n"
   ]
  },
  {
   "cell_type": "markdown",
   "metadata": {},
   "source": [
    "연결 리스트 자료구조\n",
    "* 연결 리스트\n",
    "* 더블 연결 리스트\n",
    "* 환형 연결 리스트"
   ]
  },
  {
   "cell_type": "code",
   "execution_count": null,
   "metadata": {},
   "outputs": [],
   "source": []
  }
 ],
 "metadata": {
  "kernelspec": {
   "display_name": "Python 3",
   "language": "python",
   "name": "python3"
  },
  "language_info": {
   "codemirror_mode": {
    "name": "ipython",
    "version": 3
   },
   "file_extension": ".py",
   "mimetype": "text/x-python",
   "name": "python",
   "nbconvert_exporter": "python",
   "pygments_lexer": "ipython3",
   "version": "3.7.2"
  }
 },
 "nbformat": 4,
 "nbformat_minor": 2
}
